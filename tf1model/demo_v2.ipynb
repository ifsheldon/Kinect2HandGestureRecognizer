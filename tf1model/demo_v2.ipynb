{
 "cells": [
  {
   "cell_type": "code",
   "execution_count": 1,
   "metadata": {},
   "outputs": [],
   "source": [
    "# use tensorflow 1.14\n",
    "import tensorflow as tf\n",
    "import tensorflow.keras as K\n",
    "import tensorflow_hub as hub\n",
    "import matplotlib.pyplot as plt\n",
    "import numpy as np\n",
    "import matplotlib.image as mpimg\n",
    "import os\n",
    "from tqdm import tqdm"
   ]
  },
  {
   "cell_type": "code",
   "execution_count": null,
   "metadata": {},
   "outputs": [],
   "source": [
    "# get MobileNet v2\n",
    "model = hub.Module(\"https://tfhub.dev/google/imagenet/mobilenet_v2_140_224/feature_vector/3\") "
   ]
  },
  {
   "cell_type": "code",
   "execution_count": null,
   "metadata": {},
   "outputs": [],
   "source": [
    "height, width = hub.get_expected_image_size(model)\n",
    "print(\"height:\",height)"
   ]
  },
  {
   "cell_type": "code",
   "execution_count": 4,
   "metadata": {},
   "outputs": [
    {
     "data": {
      "text/plain": [
       "(1024, 1024)"
      ]
     },
     "execution_count": 4,
     "metadata": {},
     "output_type": "execute_result"
    }
   ],
   "source": [
    "pic = mpimg.imread(\"0003.png\")\n",
    "pic.shape"
   ]
  },
  {
   "cell_type": "code",
   "execution_count": 3,
   "metadata": {},
   "outputs": [
    {
     "data": {
      "text/plain": [
       "<matplotlib.image.AxesImage at 0x1f093510208>"
      ]
     },
     "execution_count": 3,
     "metadata": {},
     "output_type": "execute_result"
    },
    {
     "data": {
      "image/png": "[encoded data removed]",
      "text/plain": [
       "<Figure size 432x288 with 1 Axes>"
      ]
     },
     "metadata": {
      "needs_background": "light"
     },
     "output_type": "display_data"
    }
   ],
   "source": [
    "plt.imshow(pic)"
   ]
  },
  {
   "cell_type": "code",
   "execution_count": null,
   "metadata": {},
   "outputs": [],
   "source": [
    "def shuffle(arr):\n",
    "    l = len(arr)\n",
    "    indices = np.arange(l)\n",
    "    np.random.shuffle(indices)\n",
    "    arr = arr[indices]\n",
    "    return arr"
   ]
  },
  {
   "cell_type": "code",
   "execution_count": null,
   "metadata": {},
   "outputs": [],
   "source": [
    "# load pictures.\n",
    "pictures = []\n",
    "os.chdir(\"./data_for_autoencoder\")\n",
    "picture_paths = np.array(os.listdir())\n",
    "picture_paths = shuffle(picture_paths)\n",
    "for path in tqdm(picture_paths[:1800]):\n",
    "    pictures.append(mpimg.imread(path).astype(np.float16))\n",
    "os.chdir(\"..\")\n",
    "pictures = np.array(pictures)\n",
    "pictures = np.expand_dims(pictures, axis=-1)\n",
    "pictures.shape"
   ]
  },
  {
   "cell_type": "code",
   "execution_count": null,
   "metadata": {},
   "outputs": [],
   "source": [
    "pictures.dtype"
   ]
  },
  {
   "cell_type": "code",
   "execution_count": null,
   "metadata": {},
   "outputs": [],
   "source": [
    "def get_batch(data, batch_size, shuff = True):\n",
    "    if shuff:\n",
    "        data = shuffle(data)\n",
    "    length = len(data)\n",
    "    batches = length//batch_size\n",
    "    for i in range(batches):\n",
    "        batch = data[i*batch_size:(i+1)*batch_size]\n",
    "        yield batch"
   ]
  },
  {
   "cell_type": "code",
   "execution_count": null,
   "metadata": {},
   "outputs": [],
   "source": [
    "np.max(pic)"
   ]
  },
  {
   "cell_type": "code",
   "execution_count": null,
   "metadata": {},
   "outputs": [],
   "source": [
    "plt.imshow(pictures[4].astype(np.float32))"
   ]
  },
  {
   "cell_type": "code",
   "execution_count": null,
   "metadata": {},
   "outputs": [],
   "source": [
    "#(batch, frame, C, H, W)->(batch*frame, C, H, W)->CNN->(batch*frame, feature)->(batch, frame, feature)->RNN\n",
    "frame_rate = 15\n",
    "batch_size = 2\n",
    "with tf.name_scope(\"input\"):\n",
    "    input_images = tf.placeholder(shape=(batch_size*frame_rate,1024,1024,1),name=\"input_images\", dtype=tf.float32)\n",
    "    training = tf.placeholder(name = \"is_training\", dtype=tf.bool)\n",
    "    labels = tf.placeholder(shape=(batch_size*frame_rate,3),name=\"labels\",dtype=tf.float32)\n",
    "    mask = tf.Variable((1,),name=\"mask\",dtype=tf.float32,trainable=True) # may overfit?\n",
    "    bias = tf.Variable((1,),name = \"bias\", dtype=tf.float32,trainable=True)\n",
    "    input_imgs = tf.multiply(input_images,mask, name=\"mul\") + bias\n",
    "with tf.name_scope(\"CNN1_encoder\"):\n",
    "# input shape = (1024,1024,1)\n",
    "    X = K.layers.Conv2D(filters=4, kernel_size=(3,3), strides=(1,1),padding=\"valid\",kernel_initializer=\"he_normal\",kernel_regularizer=K.regularizers.l2(l=0.01))(input_imgs)\n",
    "    X = K.layers.BatchNormalization(name=\"bn1\")(X,training=training)\n",
    "    X = K.layers.Activation(\"selu\")(X)\n",
    "# input shape = (1022,1022,4)\n",
    "    X = K.layers.MaxPool2D((2,2),name=\"max_pool1\",padding=\"valid\",strides=(2,2))(X)\n",
    "\n",
    "# input shape = (511,511,4)\n",
    "    X = K.layers.Conv2D(filters=8,kernel_size=(4,4),strides=1,padding=\"valid\",kernel_initializer=\"he_normal\",kernel_regularizer=K.regularizers.l2(l=0.01))(X)\n",
    "    X = K.layers.BatchNormalization(name=\"bn2\")(X,training=training)\n",
    "    X = K.layers.Activation(\"selu\")(X)\n",
    "# input shape = (508,508,8)\n",
    "    X = K.layers.MaxPool2D((2,2),name=\"max_pool2\",padding=\"valid\",strides=(2,2))(X)\n",
    "\n",
    "# input shape = (254,254,8)\n",
    "    X = K.layers.Conv2D(filters=16,kernel_size=(5,5),strides=1,padding=\"valid\",kernel_initializer=\"he_normal\",kernel_regularizer=K.regularizers.l2(l=0.01))(X)\n",
    "    X = K.layers.BatchNormalization(name=\"bn3\")(X,training=training)\n",
    "    X = K.layers.Activation(\"selu\")(X)\n",
    "# input shape = (250,250,16)\n",
    "    X = K.layers.MaxPool2D((2,2),name=\"max_pool3\",padding=\"valid\",strides=(1,1))(X)\n",
    "\n",
    "# input shape = (249,249,16)\n",
    "    X = K.layers.Conv2D(filters=32,kernel_size=(7,7),strides=1,padding=\"valid\",kernel_initializer=\"he_normal\",kernel_regularizer=K.regularizers.l2(l=0.01))(X)\n",
    "    X = K.layers.BatchNormalization(name=\"bn4\")(X,training=training)\n",
    "    X = K.layers.Activation(\"selu\")(X)\n",
    "# input shape = (243,243,32)\n",
    "    X = K.layers.MaxPool2D((2,2),name=\"max_pool4\",padding=\"valid\",strides=(1,1))(X)\n",
    "\n",
    "# input shape = (242,242,32)\n",
    "    X = K.layers.Conv2D(filters=64,kernel_size=(9,9),strides=1,padding=\"valid\",kernel_initializer=\"he_normal\",kernel_regularizer=K.regularizers.l2(l=0.01))(X)\n",
    "    X = K.layers.BatchNormalization(name=\"bn5\")(X,training=training)\n",
    "    X = K.layers.Activation(\"selu\")(X)\n",
    "\n",
    "# input shape = (234,234,64)\n",
    "    X = K.layers.Conv2D(filters=3,kernel_size=(11,11),strides=1,padding=\"valid\",kernel_initializer=\"he_normal\",kernel_regularizer=K.regularizers.l2(l=0.01))(X)\n",
    "    X = K.layers.BatchNormalization(name=\"bn6\")(X,training=training)\n",
    "    X = K.layers.Activation(\"selu\")(X)\n",
    "\n",
    "with tf.name_scope(\"decoder_for_CNN1\"):\n",
    "    # input shape = (224,224,3)\n",
    "    D = tf.image.resize_images(X,size=(256,256))\n",
    "    # input shape = (256,256,3)\n",
    "    D = K.layers.Conv2DTranspose(filters=9,kernel_size=3,strides=2,padding=\"same\",activation=\"relu\")(D)\n",
    "    # input shape = (512,512,9)\n",
    "    D = K.layers.Conv2DTranspose(filters=3,kernel_size=3,strides=2,padding=\"same\",activation=\"relu\")(D)\n",
    "    # input shape = (1024,1024,3)\n",
    "    D = K.layers.Conv2DTranspose(filters=1,kernel_size=3,strides=1,padding=\"same\",activation=\"relu\")(D)\n",
    "    # output (1024,1024,1)\n",
    "    autoencoder_loss = K.losses.MSE(input_images,D) + tf.losses.get_regularization_loss()\n",
    "    optimizer4autoencoder = tf.train.AdamOptimizer().minimize(autoencoder_loss)\n",
    "    print(D)\n",
    "with tf.name_scope(\"MobileNetV2_encoder\"):\n",
    "    # input shape = (224,224,3)\n",
    "    features = model(X)# with shape (batch*frame, feature)\n",
    "    Y = tf.reshape(features,(batch_size,frame_rate,1792))# with shape (batch,frame, feature)\n",
    "with tf.name_scope(\"RNN\"):\n",
    "# RNN with GRU\n",
    "    Y = K.layers.LSTM(units=128,return_sequences=True)(Y)\n",
    "    Y = K.layers.Dropout(rate=0.5)(Y)\n",
    "    Y = K.layers.BatchNormalization(name=\"bn1_RNN\")(Y,training=training)\n",
    "\n",
    "    Y = K.layers.LSTM(units=128, return_sequences=True)(Y)\n",
    "    Y = K.layers.Dropout(rate=0.5)(Y)\n",
    "    Y = K.layers.BatchNormalization(name=\"bn2_RNN\")(Y,training=training)\n",
    "    Y = K.layers.TimeDistributed(K.layers.Dense(3,activation=\"softmax\"))(Y)\n",
    "    preds = tf.reshape(Y,(batch_size*frame_rate,3))\n",
    "    print(Y) # check dimensions\n",
    "    print(preds)\n",
    "    loss = K.losses.CategoricalCrossentropy()(labels,preds)#####注意输入的维度\n",
    "    reg_loss = tf.losses.get_regularization_loss()\n",
    "    loss += reg_loss\n",
    "    optimizer  = tf.train.AdamOptimizer().minimize(loss)\n"
   ]
  },
  {
   "cell_type": "code",
   "execution_count": null,
   "metadata": {},
   "outputs": [],
   "source": [
    "# useful\n",
    "tf.losses.get_regularization_loss"
   ]
  },
  {
   "cell_type": "code",
   "execution_count": null,
   "metadata": {},
   "outputs": [],
   "source": [
    "sess = tf.Session()"
   ]
  },
  {
   "cell_type": "code",
   "execution_count": null,
   "metadata": {},
   "outputs": [],
   "source": [
    "sess.run(tf.global_variables_initializer())"
   ]
  },
  {
   "cell_type": "code",
   "execution_count": null,
   "metadata": {},
   "outputs": [],
   "source": [
    "for batch in get_batch(pictures,batch_size*frame_rate):\n",
    "#     print(batch.shape)\n",
    "    batch = batch.astype(np.float32)\n",
    "    batch_loss,_ = sess.run([autoencoder_loss,optimizer4autoencoder], feed_dict={input_images:batch,training : True})\n",
    "    print(\"batch loss: \",batch_loss)"
   ]
  },
  {
   "cell_type": "code",
   "execution_count": null,
   "metadata": {},
   "outputs": [],
   "source": [
    "sess.close()"
   ]
  }
 ],
 "metadata": {
  "kernelspec": {
   "display_name": "Python 3",
   "language": "python",
   "name": "python3"
  },
  "language_info": {
   "codemirror_mode": {
    "name": "ipython",
    "version": 3
   },
   "file_extension": ".py",
   "mimetype": "text/x-python",
   "name": "python",
   "nbconvert_exporter": "python",
   "pygments_lexer": "ipython3",
   "version": "3.6.8"
  }
 },
 "nbformat": 4,
 "nbformat_minor": 2
}
