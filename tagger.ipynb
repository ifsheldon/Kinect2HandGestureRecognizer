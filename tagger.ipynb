{
 "cells": [
  {
   "cell_type": "code",
   "execution_count": null,
   "metadata": {},
   "outputs": [],
   "source": [
    "import matplotlib.pyplot as plt\n",
    "import numpy as np\n",
    "import matplotlib.image as mpimg\n",
    "import os\n",
    "import pickle"
   ]
  },
  {
   "cell_type": "code",
   "execution_count": null,
   "metadata": {},
   "outputs": [],
   "source": [
    "dataset_dir = \"C:/Onedrive/Study/Experiment/data_for_training/tagger_test_rgb\"\n",
    "working_dir = 'C:\\\\Onedrive\\\\Study\\\\Experiment\\\\HandGestureRecognizer'"
   ]
  },
  {
   "cell_type": "code",
   "execution_count": null,
   "metadata": {},
   "outputs": [],
   "source": [
    "def tagging():\n",
    "    os.chdir(dataset_dir)\n",
    "    pics_paths = os.listdir()\n",
    "    total = len(pics_paths)\n",
    "    tag_records = {p:\"none\" for p in pics_paths}\n",
    "    i = -1\n",
    "    path = None\n",
    "    while i < total-1:\n",
    "        i+=1\n",
    "        path = pics_paths[i]\n",
    "        print(\"\\n---------------------------------------------\")\n",
    "        print(\"picture {} / {} ↓↓\".format(i+1,total))\n",
    "        pic = mpimg.imread(path)\n",
    "        plt.imshow(pic)\n",
    "        plt.show()\n",
    "        inp = input()\n",
    "        inp = inp.lower()\n",
    "        if inp == \"w\": # 上一张\n",
    "            i -= 2\n",
    "            if i == -2:\n",
    "                raise Exception(\"cannot go back\")\n",
    "        elif inp == \"a\": # 左开始\n",
    "            tag_records[path] = \"left_start\"\n",
    "        elif inp == \"s\": # 圆开始\n",
    "            tag_records[path] = \"round_start\"\n",
    "        elif inp == \"d\": # 右开始\n",
    "            tag_records[path] = \"right_start\"\n",
    "        elif inp ==\"z\": # 左结束\n",
    "            tag_records[path] = \"left_end\"\n",
    "        elif inp == \"x\": # 圆结束\n",
    "            tag_records[path] = \"round_end\"\n",
    "        elif inp == \"c\": # 右结束\n",
    "            tag_records[path] = \"right_end\"\n",
    "        elif inp == \"exit\": # 退出\n",
    "            break\n",
    "        elif len(inp) ==0: #下一张\n",
    "            pass\n",
    "        else:\n",
    "            i -= 1\n",
    "            print(\"unacceptable input, try again\")\n",
    "        \n",
    "        print(\"tagged as: \", tag_records[path])\n",
    "    \n",
    "    os.chdir(working_dir)\n",
    "    if i == total-1:\n",
    "        return tag_records,None\n",
    "    else:\n",
    "        return tag_records,path\n",
    "    "
   ]
  },
  {
   "cell_type": "code",
   "execution_count": null,
   "metadata": {},
   "outputs": [],
   "source": [
    "tag_records, unfinished = tagging()"
   ]
  },
  {
   "cell_type": "code",
   "execution_count": null,
   "metadata": {},
   "outputs": [],
   "source": [
    "# save records\n",
    "file = open(\"tags.pickle\",mode=\"wb\")\n",
    "pickle.dump((dataset_dir,tag_records,unfinished),file)\n",
    "file.close()"
   ]
  },
  {
   "cell_type": "code",
   "execution_count": null,
   "metadata": {},
   "outputs": [],
   "source": [
    "# load records\n",
    "file = open(\"tags.pickle\",mode=\"rb\")\n",
    "dataset_dir, tag_records, unfinished = pickle.load(file)\n",
    "file.close()"
   ]
  }
 ],
 "metadata": {
  "kernelspec": {
   "display_name": "Python 3",
   "language": "python",
   "name": "python3"
  },
  "language_info": {
   "codemirror_mode": {
    "name": "ipython",
    "version": 3
   },
   "file_extension": ".py",
   "mimetype": "text/x-python",
   "name": "python",
   "nbconvert_exporter": "python",
   "pygments_lexer": "ipython3",
   "version": "3.7.4"
  }
 },
 "nbformat": 4,
 "nbformat_minor": 2
}
